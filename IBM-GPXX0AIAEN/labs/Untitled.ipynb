{
 "cells": [
  {
   "cell_type": "code",
   "execution_count": 1,
   "id": "5bd98b15-6e71-4341-a003-19e4552e2a77",
   "metadata": {
    "tags": []
   },
   "outputs": [
    {
     "name": "stdout",
     "output_type": "stream",
     "text": [
      "Could not solve for environment specs\n",
      "The following packages are incompatible\n",
      "├─ \u001b[32mmatplotlib 3.5.0 \u001b[0m is installable with the potential options\n",
      "│  ├─ \u001b[32mmatplotlib [2.2.2|3.1.2|...|3.5.3]\u001b[0m would require\n",
      "│  │  ├─ \u001b[32mmatplotlib-base [>=3.3.2,<3.3.3.0a0 |>=3.3.4,<3.3.5.0a0 |...|>=3.5.3,<3.5.4.0a0 ]\u001b[0m with the potential options\n",
      "│  │  │  ├─ \u001b[32mmatplotlib-base [3.5.0|3.5.1|3.5.2]\u001b[0m would require\n",
      "│  │  │  │  └─ \u001b[32mfreetype >=2.11.0,<3.0a0 \u001b[0m, which can be installed;\n",
      "│  │  │  ├─ \u001b[32mmatplotlib-base [3.5.0|3.5.1|3.5.2|3.5.3]\u001b[0m would require\n",
      "│  │  │  │  └─ \u001b[32mpython >=3.10,<3.11.0a0 \u001b[0m, which can be installed;\n",
      "│  │  │  ├─ \u001b[32mmatplotlib-base [3.3.2|3.3.4|...|3.5.3]\u001b[0m would require\n",
      "│  │  │  │  └─ \u001b[32mpython >=3.8,<3.9.0a0 \u001b[0m, which can be installed;\n",
      "│  │  │  ├─ \u001b[32mmatplotlib-base [3.3.2|3.3.4|...|3.5.3]\u001b[0m would require\n",
      "│  │  │  │  └─ \u001b[32mpython >=3.9,<3.10.0a0 \u001b[0m, which can be installed;\n",
      "│  │  │  ├─ \u001b[32mmatplotlib-base 3.5.3\u001b[0m would require\n",
      "│  │  │  │  └─ \u001b[32mfreetype >=2.12.1,<3.0a0 \u001b[0m, which can be installed;\n",
      "│  │  │  ├─ \u001b[32mmatplotlib-base [3.3.2|3.3.4|3.4.2|3.4.3]\u001b[0m would require\n",
      "│  │  │  │  └─ \u001b[32mfreetype >=2.10.4,<3.0a0 \u001b[0m, which can be installed;\n",
      "│  │  │  └─ \u001b[32mmatplotlib-base [3.3.2|3.3.4]\u001b[0m would require\n",
      "│  │  │     └─ \u001b[32mpython >=3.6,<3.7.0a0 \u001b[0m, which can be installed;\n",
      "│  │  └─ \u001b[32mpyqt [ |>=5.6,<6.0a0 ]\u001b[0m with the potential options\n",
      "│  │     ├─ \u001b[32mpyqt [5.15.10|5.15.7|5.9.2]\u001b[0m would require\n",
      "│  │     │  └─ \u001b[32mpython >=3.10,<3.11.0a0 \u001b[0m, which can be installed;\n",
      "│  │     ├─ \u001b[32mpyqt [5.15.10|5.15.7]\u001b[0m would require\n",
      "│  │     │  └─ \u001b[32mpython >=3.11,<3.12.0a0 \u001b[0m, which can be installed;\n",
      "│  │     ├─ \u001b[32mpyqt 5.15.10\u001b[0m would require\n",
      "│  │     │  └─ \u001b[32mpython >=3.12,<3.13.0a0 \u001b[0m, which can be installed;\n",
      "│  │     ├─ \u001b[32mpyqt [5.15.10|5.15.7|5.9.2]\u001b[0m would require\n",
      "│  │     │  └─ \u001b[32mpython >=3.8,<3.9.0a0 \u001b[0m, which can be installed;\n",
      "│  │     ├─ \u001b[32mpyqt [5.15.10|5.15.7|5.9.2]\u001b[0m would require\n",
      "│  │     │  └─ \u001b[32mpython >=3.9,<3.10.0a0 \u001b[0m, which can be installed;\n",
      "│  │     ├─ \u001b[32mpyqt 5.15.7\u001b[0m would require\n",
      "│  │     │  ├─ \u001b[32mqt-main 5.15.* \u001b[0m with the potential options\n",
      "│  │     │  │  ├─ \u001b[32mqt-main 5.15.2\u001b[0m would require\n",
      "│  │     │  │  │  ├─ \u001b[32mfreetype >=2.10.4,<3.0a0 \u001b[0m, which can be installed;\n",
      "│  │     │  │  │  ├─ \u001b[32micu >=73.1,<74.0a0 \u001b[0m, which can be installed;\n",
      "│  │     │  │  │  └─ \u001b[32mopenssl >=1.1.1v,<1.1.2a \u001b[0m, which can be installed;\n",
      "│  │     │  │  ├─ \u001b[32mqt-main 5.15.2\u001b[0m would require\n",
      "│  │     │  │  │  ├─ \u001b[32mfreetype >=2.10.4,<3.0a0 \u001b[0m, which can be installed;\n",
      "│  │     │  │  │  └─ \u001b[32micu >=58.2,<59.0a0 \u001b[0m, which can be installed;\n",
      "│  │     │  │  ├─ \u001b[31mqt-main 5.15.2\u001b[0m would require\n",
      "│  │     │  │  │  └─ \u001b[31mopenssl >=3.0.10,<4.0a0 \u001b[0m, which conflicts with any installable versions previously reported;\n",
      "│  │     │  │  ├─ \u001b[32mqt-main 5.15.2\u001b[0m would require\n",
      "│  │     │  │  │  ├─ \u001b[32mfreetype >=2.10.4,<3.0a0 \u001b[0m, which can be installed;\n",
      "│  │     │  │  │  ├─ \u001b[32micu >=58.2,<59.0a0 \u001b[0m, which can be installed;\n",
      "│  │     │  │  │  └─ \u001b[32mopenssl >=1.1.1u,<1.1.2a \u001b[0m, which can be installed;\n",
      "│  │     │  │  ├─ \u001b[31mqt-main 5.15.2\u001b[0m would require\n",
      "│  │     │  │  │  └─ \u001b[31mopenssl >=3.0.9,<4.0a0 \u001b[0m, which conflicts with any installable versions previously reported;\n",
      "│  │     │  │  └─ \u001b[32mqt-main 5.15.2\u001b[0m would require\n",
      "│  │     │  │     ├─ \u001b[32mfreetype >=2.10.4,<3.0a0 \u001b[0m, which can be installed;\n",
      "│  │     │  │     ├─ \u001b[32micu >=58.2,<59.0a0 \u001b[0m, which can be installed;\n",
      "│  │     │  │     └─ \u001b[32mopenssl >=1.1.1t,<1.1.2a \u001b[0m, which can be installed;\n",
      "│  │     │  ├─ \u001b[32mqt-webengine 5.15.* \u001b[0m with the potential options\n",
      "│  │     │  │  ├─ \u001b[32mqt-webengine 5.15.9\u001b[0m would require\n",
      "│  │     │  │  │  └─ \u001b[32mqt >=5.15.2,<6 \u001b[0m, which can be installed;\n",
      "│  │     │  │  └─ \u001b[32mqt-webengine 5.15.9\u001b[0m would require\n",
      "│  │     │  │     └─ \u001b[32mqt 5.15.9 \u001b[0m, which can be installed;\n",
      "│  │     │  └─ \u001b[32mqtwebkit 5.* \u001b[0m with the potential options\n",
      "│  │     │     ├─ \u001b[32mqtwebkit 5.212\u001b[0m would require\n",
      "│  │     │     │  └─ \u001b[32mlibwebp-base >=1.2.4,<2.0a0 \u001b[0m with the potential options\n",
      "│  │     │     │     ├─ \u001b[32mlibwebp-base 1.2.4\u001b[0m would require\n",
      "│  │     │     │     │  └─ \u001b[32mlibwebp 1.2.4 \u001b[0m, which can be installed;\n",
      "│  │     │     │     └─ \u001b[32mlibwebp-base 1.3.2\u001b[0m would require\n",
      "│  │     │     │        └─ \u001b[32mlibwebp 1.3.2 \u001b[0m, which can be installed;\n",
      "│  │     │     └─ \u001b[32mqtwebkit 5.212\u001b[0m would require\n",
      "│  │     │        └─ \u001b[32mlibwebp >=1.2.0,<1.3.0a0 \u001b[0m, which can be installed;\n",
      "│  │     ├─ \u001b[32mpyqt [5.6.0|5.9.2]\u001b[0m would require\n",
      "│  │     │  └─ \u001b[32mpython >=2.7,<2.8.0a0 \u001b[0m, which can be installed;\n",
      "│  │     ├─ \u001b[32mpyqt [5.6.0|5.9.2]\u001b[0m would require\n",
      "│  │     │  └─ \u001b[32mpython >=3.5,<3.6.0a0 \u001b[0m, which can be installed;\n",
      "│  │     ├─ \u001b[32mpyqt [5.6.0|5.9.2]\u001b[0m would require\n",
      "│  │     │  └─ \u001b[32mpython >=3.6,<3.7.0a0 \u001b[0m, which can be installed;\n",
      "│  │     └─ \u001b[32mpyqt [5.6.0|5.9.2]\u001b[0m would require\n",
      "│  │        └─ \u001b[32mqt [5.6.* |5.9.* ]\u001b[0m with the potential options\n",
      "│  │           ├─ \u001b[31mqt [5.6.2|5.9.4|5.9.5]\u001b[0m would require\n",
      "│  │           │  └─ \u001b[31mopenssl 1.0.* \u001b[0m, which conflicts with any installable versions previously reported;\n",
      "│  │           ├─ \u001b[31mqt 5.6.2\u001b[0m would require\n",
      "│  │           │  └─ \u001b[31mopenssl >=1.0.2n,<1.0.3a \u001b[0m, which conflicts with any installable versions previously reported;\n",
      "│  │           ├─ \u001b[31mqt 5.6.3\u001b[0m would require\n",
      "│  │           │  ├─ \u001b[32mfontconfig >=2.13.0,<3.0a0 \u001b[0m with the potential options\n",
      "│  │           │  │  ├─ \u001b[32mfontconfig 2.14.2\u001b[0m would require\n",
      "│  │           │  │  │  └─ \u001b[32mfreetype >=2.12.1,<3.0a0 \u001b[0m, which can be installed;\n",
      "│  │           │  │  ├─ \u001b[32mfontconfig [2.13.0|2.13.1]\u001b[0m would require\n",
      "│  │           │  │  │  └─ \u001b[32mlibuuid >=1.0.3,<2.0a0 \u001b[0m, which can be installed;\n",
      "│  │           │  │  ├─ \u001b[32mfontconfig 2.14.1\u001b[0m would require\n",
      "│  │           │  │  │  └─ \u001b[32mlibuuid >=1.41.5,<2.0a0 \u001b[0m, which can be installed;\n",
      "│  │           │  │  └─ \u001b[32mfontconfig 2.14.1\u001b[0m would require\n",
      "│  │           │  │     └─ \u001b[32mfreetype >=2.10.4,<3.0a0 \u001b[0m, which can be installed;\n",
      "│  │           │  └─ \u001b[31mopenssl >=1.0.2o,<1.0.3a \u001b[0m, which conflicts with any installable versions previously reported;\n",
      "│  │           ├─ \u001b[31mqt 5.6.3\u001b[0m would require\n",
      "│  │           │  ├─ \u001b[32mfontconfig >=2.13.0,<3.0a0 \u001b[0m, which can be installed (as previously explained);\n",
      "│  │           │  └─ \u001b[31mopenssl >=1.0.2p,<1.0.3a \u001b[0m, which conflicts with any installable versions previously reported;\n",
      "│  │           ├─ \u001b[32mqt [5.6.3|5.9.7]\u001b[0m would require\n",
      "│  │           │  ├─ \u001b[32mfontconfig >=2.13.0,<3.0a0 \u001b[0m, which can be installed (as previously explained);\n",
      "│  │           │  └─ \u001b[32micu >=58.2,<59.0a0 \u001b[0m, which can be installed;\n",
      "│  │           └─ \u001b[31mqt 5.9.6\u001b[0m would require\n",
      "│  │              ├─ \u001b[32mfontconfig >=2.13.0,<3.0a0 \u001b[0m, which can be installed (as previously explained);\n",
      "│  │              └─ \u001b[31mopenssl 1.0.* \u001b[0m, which conflicts with any installable versions previously reported;\n",
      "│  ├─ \u001b[32mmatplotlib [3.5.0|3.5.1|...|3.8.0]\u001b[0m would require\n",
      "│  │  └─ \u001b[32mpython >=3.10,<3.11.0a0 \u001b[0m, which can be installed;\n",
      "│  ├─ \u001b[32mmatplotlib [3.1.1|3.1.2|...|3.7.2]\u001b[0m would require\n",
      "│  │  └─ \u001b[32mpython >=3.8,<3.9.0a0 \u001b[0m, which can be installed;\n",
      "│  └─ \u001b[32mmatplotlib [3.3.4|3.4.2|...|3.8.0]\u001b[0m would require\n",
      "│     └─ \u001b[32mpython >=3.9,<3.10.0a0 \u001b[0m, which can be installed;\n",
      "├─ \u001b[31mnumpy 1.21.4 \u001b[0m does not exist (perhaps a typo or a missing channel);\n",
      "└─ \u001b[32mseaborn 0.9.0 \u001b[0m is installable with the potential options\n",
      "   ├─ \u001b[32mseaborn 0.9.0\u001b[0m would require\n",
      "   │  ├─ \u001b[32mmatplotlib >=1.4.3 \u001b[0m with the potential options\n",
      "   │  │  ├─ \u001b[32mmatplotlib [2.2.2|3.1.2|...|3.5.3]\u001b[0m, which can be installed (as previously explained);\n",
      "   │  │  ├─ \u001b[32mmatplotlib [3.5.0|3.5.1|...|3.8.0]\u001b[0m, which can be installed (as previously explained);\n",
      "   │  │  ├─ \u001b[32mmatplotlib [3.1.1|3.1.2|...|3.7.2]\u001b[0m, which can be installed (as previously explained);\n",
      "   │  │  ├─ \u001b[32mmatplotlib [3.3.4|3.4.2|...|3.8.0]\u001b[0m, which can be installed (as previously explained);\n",
      "   │  │  ├─ \u001b[32mmatplotlib [2.0.2|2.1.0|...|2.2.3]\u001b[0m would require\n",
      "   │  │  │  └─ \u001b[32mpython >=2.7,<2.8.0a0 \u001b[0m, which can be installed;\n",
      "   │  │  ├─ \u001b[32mmatplotlib [2.0.2|2.1.0|...|3.0.0]\u001b[0m would require\n",
      "   │  │  │  └─ \u001b[32mpython >=3.5,<3.6.0a0 \u001b[0m, which can be installed;\n",
      "   │  │  ├─ \u001b[32mmatplotlib [2.0.2|2.1.0|...|3.3.4]\u001b[0m would require\n",
      "   │  │  │  └─ \u001b[32mpython >=3.6,<3.7.0a0 \u001b[0m, which can be installed;\n",
      "   │  │  ├─ \u001b[32mmatplotlib [2.2.3|3.0.0|...|3.1.2]\u001b[0m would require\n",
      "   │  │  │  └─ \u001b[32mpyqt 5.9.* \u001b[0m, which can be installed (as previously explained);\n",
      "   │  │  ├─ \u001b[32mmatplotlib [3.6.2|3.7.1|3.7.2|3.8.0]\u001b[0m would require\n",
      "   │  │  │  └─ \u001b[32mpython >=3.11,<3.12.0a0 \u001b[0m, which can be installed;\n",
      "   │  │  └─ \u001b[32mmatplotlib 3.8.0\u001b[0m would require\n",
      "   │  │     └─ \u001b[32mpython >=3.12,<3.13.0a0 \u001b[0m, which can be installed;\n",
      "   │  └─ \u001b[32mpython [ |>=3.7,<3.8.0a0 ]\u001b[0m with the potential options\n",
      "   │     ├─ \u001b[32mpython [3.10.0|3.10.10|...|3.10.9]\u001b[0m, which can be installed;\n",
      "   │     ├─ \u001b[32mpython [3.11.0|3.11.2|...|3.11.8]\u001b[0m, which can be installed;\n",
      "   │     ├─ \u001b[32mpython [3.8.0|3.8.1|...|3.8.8]\u001b[0m, which can be installed;\n",
      "   │     ├─ \u001b[32mpython [3.9.0|3.9.1|...|3.9.7]\u001b[0m, which can be installed;\n",
      "   │     ├─ \u001b[32mpython [2.7.13|2.7.14|...|2.7.18]\u001b[0m, which can be installed;\n",
      "   │     ├─ \u001b[32mpython [3.12.0|3.12.1|3.12.2]\u001b[0m, which can be installed;\n",
      "   │     ├─ \u001b[32mpython [3.5.4|3.5.5|3.5.6]\u001b[0m, which can be installed;\n",
      "   │     ├─ \u001b[32mpython [3.6.10|3.6.12|...|3.6.9]\u001b[0m, which can be installed;\n",
      "   │     ├─ \u001b[32mpython 3.7.12\u001b[0m would require\n",
      "   │     │  └─ \u001b[32mopenssl >=1.1.1l,<1.1.2a \u001b[0m, which can be installed;\n",
      "   │     ├─ \u001b[32mpython [3.7.0|3.7.1|...|3.7.9]\u001b[0m, which can be installed;\n",
      "   │     └─ \u001b[32mpython 3.7.7\u001b[0m would require\n",
      "   │        └─ \u001b[32mopenssl >=1.1.1e,<1.1.2a \u001b[0m, which can be installed;\n",
      "   ├─ \u001b[32mseaborn 0.9.0\u001b[0m would require\n",
      "   │  └─ \u001b[32mpython >=2.7,<2.8.0a0 \u001b[0m, which can be installed;\n",
      "   ├─ \u001b[32mseaborn 0.9.0\u001b[0m would require\n",
      "   │  └─ \u001b[32mpython >=3.5,<3.6.0a0 \u001b[0m, which can be installed;\n",
      "   └─ \u001b[32mseaborn 0.9.0\u001b[0m would require\n",
      "      └─ \u001b[32mpython >=3.6,<3.7.0a0 \u001b[0m, which can be installed.\n"
     ]
    }
   ],
   "source": [
    "!mamba install -qy pandas==1.3.4 numpy==1.21.4 seaborn==0.9.0 matplotlib==3.5.0 scikit-learn==0.20.1"
   ]
  },
  {
   "cell_type": "code",
   "execution_count": 2,
   "id": "c38d0f0f-bc19-4015-8133-c9201bb31814",
   "metadata": {
    "tags": []
   },
   "outputs": [
    {
     "name": "stdout",
     "output_type": "stream",
     "text": [
      "Requirement already satisfied: torch in /home/jupyterlab/conda/envs/python/lib/python3.7/site-packages (1.13.1+cpu)\n",
      "Requirement already satisfied: typing-extensions in /home/jupyterlab/conda/envs/python/lib/python3.7/site-packages (from torch) (4.5.0)\n"
     ]
    }
   ],
   "source": [
    "!pip install torch"
   ]
  },
  {
   "cell_type": "code",
   "execution_count": 3,
   "id": "fbf63bd2-9ab7-4fdb-a0c3-68dc10f13f5d",
   "metadata": {
    "tags": []
   },
   "outputs": [
    {
     "name": "stdout",
     "output_type": "stream",
     "text": [
      "Requirement already satisfied: torch in /home/jupyterlab/conda/envs/python/lib/python3.7/site-packages (1.13.1+cpu)\n",
      "Requirement already satisfied: typing-extensions in /home/jupyterlab/conda/envs/python/lib/python3.7/site-packages (from torch) (4.5.0)\n"
     ]
    }
   ],
   "source": [
    "!pip install --upgrade torch"
   ]
  },
  {
   "cell_type": "code",
   "execution_count": 4,
   "id": "8bfa1e0f-4de1-4e18-9a4e-57b442e4cfa6",
   "metadata": {
    "tags": []
   },
   "outputs": [],
   "source": [
    "!pip install -q transformers"
   ]
  },
  {
   "cell_type": "code",
   "execution_count": 5,
   "id": "af23b400-4e6c-4466-949d-3593c8d6527b",
   "metadata": {
    "tags": []
   },
   "outputs": [
    {
     "name": "stdout",
     "output_type": "stream",
     "text": [
      "Collecting datasets\n",
      "  Downloading datasets-2.13.2-py3-none-any.whl (512 kB)\n",
      "\u001b[2K     \u001b[90m━━━━━━━━━━━━━━━━━━━━━━━━━━━━━━━━━━━━━━\u001b[0m \u001b[32m512.7/512.7 kB\u001b[0m \u001b[31m52.2 MB/s\u001b[0m eta \u001b[36m0:00:00\u001b[0m\n",
      "\u001b[?25hCollecting evaluate\n",
      "  Downloading evaluate-0.4.1-py3-none-any.whl (84 kB)\n",
      "\u001b[2K     \u001b[90m━━━━━━━━━━━━━━━━━━━━━━━━━━━━━━━━━━━━━━━━\u001b[0m \u001b[32m84.1/84.1 kB\u001b[0m \u001b[31m18.3 MB/s\u001b[0m eta \u001b[36m0:00:00\u001b[0m\n",
      "\u001b[?25hRequirement already satisfied: transformers[sentencepiece] in /home/jupyterlab/conda/envs/python/lib/python3.7/site-packages (4.30.2)\n",
      "Requirement already satisfied: numpy>=1.17 in /home/jupyterlab/conda/envs/python/lib/python3.7/site-packages (from datasets) (1.21.6)\n",
      "Collecting pyarrow>=8.0.0 (from datasets)\n",
      "  Downloading pyarrow-12.0.1-cp37-cp37m-manylinux_2_17_x86_64.manylinux2014_x86_64.whl (39.1 MB)\n",
      "\u001b[2K     \u001b[90m━━━━━━━━━━━━━━━━━━━━━━━━━━━━━━━━━━━━━━━━\u001b[0m \u001b[32m39.1/39.1 MB\u001b[0m \u001b[31m42.7 MB/s\u001b[0m eta \u001b[36m0:00:00\u001b[0m00:01\u001b[0m00:01\u001b[0m\n",
      "\u001b[?25hCollecting dill<0.3.7,>=0.3.0 (from datasets)\n",
      "  Downloading dill-0.3.6-py3-none-any.whl (110 kB)\n",
      "\u001b[2K     \u001b[90m━━━━━━━━━━━━━━━━━━━━━━━━━━━━━━━━━━━━━━\u001b[0m \u001b[32m110.5/110.5 kB\u001b[0m \u001b[31m22.4 MB/s\u001b[0m eta \u001b[36m0:00:00\u001b[0m\n",
      "\u001b[?25hRequirement already satisfied: pandas in /home/jupyterlab/conda/envs/python/lib/python3.7/site-packages (from datasets) (1.3.5)\n",
      "Requirement already satisfied: requests>=2.19.0 in /home/jupyterlab/conda/envs/python/lib/python3.7/site-packages (from datasets) (2.29.0)\n",
      "Collecting tqdm>=4.62.1 (from datasets)\n",
      "  Downloading tqdm-4.66.2-py3-none-any.whl (78 kB)\n",
      "\u001b[2K     \u001b[90m━━━━━━━━━━━━━━━━━━━━━━━━━━━━━━━━━━━━━━━━\u001b[0m \u001b[32m78.3/78.3 kB\u001b[0m \u001b[31m15.6 MB/s\u001b[0m eta \u001b[36m0:00:00\u001b[0m\n",
      "\u001b[?25hCollecting xxhash (from datasets)\n",
      "  Downloading xxhash-3.4.1-cp37-cp37m-manylinux_2_17_x86_64.manylinux2014_x86_64.whl (194 kB)\n",
      "\u001b[2K     \u001b[90m━━━━━━━━━━━━━━━━━━━━━━━━━━━━━━━━━━━━━━\u001b[0m \u001b[32m194.6/194.6 kB\u001b[0m \u001b[31m33.1 MB/s\u001b[0m eta \u001b[36m0:00:00\u001b[0m\n",
      "\u001b[?25hCollecting multiprocess (from datasets)\n",
      "  Downloading multiprocess-0.70.15-py37-none-any.whl (116 kB)\n",
      "\u001b[2K     \u001b[90m━━━━━━━━━━━━━━━━━━━━━━━━━━━━━━━━━━━━━━\u001b[0m \u001b[32m116.3/116.3 kB\u001b[0m \u001b[31m26.6 MB/s\u001b[0m eta \u001b[36m0:00:00\u001b[0m\n",
      "\u001b[?25hRequirement already satisfied: fsspec[http]>=2021.11.1 in /home/jupyterlab/conda/envs/python/lib/python3.7/site-packages (from datasets) (2023.1.0)\n",
      "Collecting aiohttp (from datasets)\n",
      "  Downloading aiohttp-3.8.6-cp37-cp37m-manylinux_2_17_x86_64.manylinux2014_x86_64.whl (987 kB)\n",
      "\u001b[2K     \u001b[90m━━━━━━━━━━━━━━━━━━━━━━━━━━━━━━━━━━━━━━\u001b[0m \u001b[32m988.0/988.0 kB\u001b[0m \u001b[31m33.9 MB/s\u001b[0m eta \u001b[36m0:00:00\u001b[0m\n",
      "\u001b[?25hRequirement already satisfied: huggingface-hub<1.0.0,>=0.11.0 in /home/jupyterlab/conda/envs/python/lib/python3.7/site-packages (from datasets) (0.16.4)\n",
      "Requirement already satisfied: packaging in /home/jupyterlab/conda/envs/python/lib/python3.7/site-packages (from datasets) (23.1)\n",
      "Requirement already satisfied: pyyaml>=5.1 in /home/jupyterlab/conda/envs/python/lib/python3.7/site-packages (from datasets) (6.0)\n",
      "Requirement already satisfied: importlib-metadata in /home/jupyterlab/conda/envs/python/lib/python3.7/site-packages (from datasets) (4.11.4)\n",
      "Collecting responses<0.19 (from evaluate)\n",
      "  Downloading responses-0.18.0-py3-none-any.whl (38 kB)\n",
      "Requirement already satisfied: filelock in /home/jupyterlab/conda/envs/python/lib/python3.7/site-packages (from transformers[sentencepiece]) (3.12.2)\n",
      "Requirement already satisfied: regex!=2019.12.17 in /home/jupyterlab/conda/envs/python/lib/python3.7/site-packages (from transformers[sentencepiece]) (2023.12.25)\n",
      "Requirement already satisfied: tokenizers!=0.11.3,<0.14,>=0.11.1 in /home/jupyterlab/conda/envs/python/lib/python3.7/site-packages (from transformers[sentencepiece]) (0.13.3)\n",
      "Requirement already satisfied: safetensors>=0.3.1 in /home/jupyterlab/conda/envs/python/lib/python3.7/site-packages (from transformers[sentencepiece]) (0.4.2)\n",
      "Collecting sentencepiece!=0.1.92,>=0.1.91 (from transformers[sentencepiece])\n",
      "  Downloading sentencepiece-0.2.0-cp37-cp37m-manylinux_2_17_x86_64.manylinux2014_x86_64.whl (1.3 MB)\n",
      "\u001b[2K     \u001b[90m━━━━━━━━━━━━━━━━━━━━━━━━━━━━━━━━━━━━━━━━\u001b[0m \u001b[32m1.3/1.3 MB\u001b[0m \u001b[31m39.2 MB/s\u001b[0m eta \u001b[36m0:00:00\u001b[0m\n",
      "\u001b[?25hCollecting protobuf<=3.20.3 (from transformers[sentencepiece])\n",
      "  Downloading protobuf-3.20.3-cp37-cp37m-manylinux_2_5_x86_64.manylinux1_x86_64.whl (1.0 MB)\n",
      "\u001b[2K     \u001b[90m━━━━━━━━━━━━━━━━━━━━━━━━━━━━━━━━━━━━━━━━\u001b[0m \u001b[32m1.0/1.0 MB\u001b[0m \u001b[31m36.3 MB/s\u001b[0m eta \u001b[36m0:00:00\u001b[0m\n",
      "\u001b[?25hRequirement already satisfied: attrs>=17.3.0 in /home/jupyterlab/conda/envs/python/lib/python3.7/site-packages (from aiohttp->datasets) (23.1.0)\n",
      "Requirement already satisfied: charset-normalizer<4.0,>=2.0 in /home/jupyterlab/conda/envs/python/lib/python3.7/site-packages (from aiohttp->datasets) (3.1.0)\n",
      "Collecting multidict<7.0,>=4.5 (from aiohttp->datasets)\n",
      "  Downloading multidict-6.0.5-cp37-cp37m-manylinux_2_17_x86_64.manylinux2014_x86_64.whl (99 kB)\n",
      "\u001b[2K     \u001b[90m━━━━━━━━━━━━━━━━━━━━━━━━━━━━━━━━━━━━━━━━\u001b[0m \u001b[32m99.8/99.8 kB\u001b[0m \u001b[31m20.1 MB/s\u001b[0m eta \u001b[36m0:00:00\u001b[0m\n",
      "\u001b[?25hCollecting async-timeout<5.0,>=4.0.0a3 (from aiohttp->datasets)\n",
      "  Downloading async_timeout-4.0.3-py3-none-any.whl (5.7 kB)\n",
      "Collecting yarl<2.0,>=1.0 (from aiohttp->datasets)\n",
      "  Downloading yarl-1.9.4-cp37-cp37m-manylinux_2_17_x86_64.manylinux2014_x86_64.whl (289 kB)\n",
      "\u001b[2K     \u001b[90m━━━━━━━━━━━━━━━━━━━━━━━━━━━━━━━━━━━━━━\u001b[0m \u001b[32m289.8/289.8 kB\u001b[0m \u001b[31m11.3 MB/s\u001b[0m eta \u001b[36m0:00:00\u001b[0m\n",
      "\u001b[?25hCollecting frozenlist>=1.1.1 (from aiohttp->datasets)\n",
      "  Downloading frozenlist-1.3.3-cp37-cp37m-manylinux_2_5_x86_64.manylinux1_x86_64.manylinux_2_17_x86_64.manylinux2014_x86_64.whl (148 kB)\n",
      "\u001b[2K     \u001b[90m━━━━━━━━━━━━━━━━━━━━━━━━━━━━━━━━━━━━━━\u001b[0m \u001b[32m148.0/148.0 kB\u001b[0m \u001b[31m27.4 MB/s\u001b[0m eta \u001b[36m0:00:00\u001b[0m\n",
      "\u001b[?25hCollecting aiosignal>=1.1.2 (from aiohttp->datasets)\n",
      "  Downloading aiosignal-1.3.1-py3-none-any.whl (7.6 kB)\n",
      "Collecting asynctest==0.13.0 (from aiohttp->datasets)\n",
      "  Downloading asynctest-0.13.0-py3-none-any.whl (26 kB)\n",
      "Requirement already satisfied: typing-extensions>=3.7.4 in /home/jupyterlab/conda/envs/python/lib/python3.7/site-packages (from aiohttp->datasets) (4.5.0)\n",
      "Requirement already satisfied: idna<4,>=2.5 in /home/jupyterlab/conda/envs/python/lib/python3.7/site-packages (from requests>=2.19.0->datasets) (3.4)\n",
      "Requirement already satisfied: urllib3<1.27,>=1.21.1 in /home/jupyterlab/conda/envs/python/lib/python3.7/site-packages (from requests>=2.19.0->datasets) (1.26.15)\n",
      "Requirement already satisfied: certifi>=2017.4.17 in /home/jupyterlab/conda/envs/python/lib/python3.7/site-packages (from requests>=2.19.0->datasets) (2023.5.7)\n",
      "Requirement already satisfied: zipp>=0.5 in /home/jupyterlab/conda/envs/python/lib/python3.7/site-packages (from importlib-metadata->datasets) (3.15.0)\n",
      "INFO: pip is looking at multiple versions of multiprocess to determine which version is compatible with other requirements. This could take a while.\n",
      "Collecting multiprocess (from datasets)\n",
      "  Downloading multiprocess-0.70.14-py37-none-any.whl (115 kB)\n",
      "\u001b[2K     \u001b[90m━━━━━━━━━━━━━━━━━━━━━━━━━━━━━━━━━━━━━━\u001b[0m \u001b[32m115.7/115.7 kB\u001b[0m \u001b[31m21.2 MB/s\u001b[0m eta \u001b[36m0:00:00\u001b[0m\n",
      "\u001b[?25hRequirement already satisfied: python-dateutil>=2.7.3 in /home/jupyterlab/conda/envs/python/lib/python3.7/site-packages (from pandas->datasets) (2.8.2)\n",
      "Requirement already satisfied: pytz>=2017.3 in /home/jupyterlab/conda/envs/python/lib/python3.7/site-packages (from pandas->datasets) (2023.3)\n",
      "Requirement already satisfied: six>=1.5 in /home/jupyterlab/conda/envs/python/lib/python3.7/site-packages (from python-dateutil>=2.7.3->pandas->datasets) (1.16.0)\n",
      "Installing collected packages: sentencepiece, xxhash, tqdm, pyarrow, protobuf, multidict, frozenlist, dill, asynctest, async-timeout, yarl, responses, multiprocess, aiosignal, aiohttp, datasets, evaluate\n",
      "  Attempting uninstall: tqdm\n",
      "    Found existing installation: tqdm 4.60.0\n",
      "    Uninstalling tqdm-4.60.0:\n",
      "      Successfully uninstalled tqdm-4.60.0\n",
      "  Attempting uninstall: protobuf\n",
      "    Found existing installation: protobuf 4.21.8\n",
      "    Uninstalling protobuf-4.21.8:\n",
      "      Successfully uninstalled protobuf-4.21.8\n",
      "Successfully installed aiohttp-3.8.6 aiosignal-1.3.1 async-timeout-4.0.3 asynctest-0.13.0 datasets-2.13.2 dill-0.3.6 evaluate-0.4.1 frozenlist-1.3.3 multidict-6.0.5 multiprocess-0.70.14 protobuf-3.20.3 pyarrow-12.0.1 responses-0.18.0 sentencepiece-0.2.0 tqdm-4.66.2 xxhash-3.4.1 yarl-1.9.4\n"
     ]
    }
   ],
   "source": [
    "!pip install datasets evaluate transformers[sentencepiece]"
   ]
  },
  {
   "cell_type": "code",
   "execution_count": 6,
   "id": "8c1f13ee-438f-4501-bcb1-be6900df87eb",
   "metadata": {
    "tags": []
   },
   "outputs": [
    {
     "name": "stdout",
     "output_type": "stream",
     "text": [
      "Collecting sacremoses\n",
      "  Downloading sacremoses-0.0.53.tar.gz (880 kB)\n",
      "\u001b[2K     \u001b[90m━━━━━━━━━━━━━━━━━━━━━━━━━━━━━━━━━━━━━━\u001b[0m \u001b[32m880.6/880.6 kB\u001b[0m \u001b[31m47.7 MB/s\u001b[0m eta \u001b[36m0:00:00\u001b[0m\n",
      "\u001b[?25h  Preparing metadata (setup.py) ... \u001b[?25ldone\n",
      "\u001b[?25hRequirement already satisfied: regex in /home/jupyterlab/conda/envs/python/lib/python3.7/site-packages (from sacremoses) (2023.12.25)\n",
      "Requirement already satisfied: six in /home/jupyterlab/conda/envs/python/lib/python3.7/site-packages (from sacremoses) (1.16.0)\n",
      "Requirement already satisfied: click in /home/jupyterlab/conda/envs/python/lib/python3.7/site-packages (from sacremoses) (8.1.3)\n",
      "Collecting joblib (from sacremoses)\n",
      "  Downloading joblib-1.3.2-py3-none-any.whl (302 kB)\n",
      "\u001b[2K     \u001b[90m━━━━━━━━━━━━━━━━━━━━━━━━━━━━━━━━━━━━━━\u001b[0m \u001b[32m302.2/302.2 kB\u001b[0m \u001b[31m10.2 MB/s\u001b[0m eta \u001b[36m0:00:00\u001b[0m\n",
      "\u001b[?25hRequirement already satisfied: tqdm in /home/jupyterlab/conda/envs/python/lib/python3.7/site-packages (from sacremoses) (4.66.2)\n",
      "Requirement already satisfied: importlib-metadata in /home/jupyterlab/conda/envs/python/lib/python3.7/site-packages (from click->sacremoses) (4.11.4)\n",
      "Requirement already satisfied: zipp>=0.5 in /home/jupyterlab/conda/envs/python/lib/python3.7/site-packages (from importlib-metadata->click->sacremoses) (3.15.0)\n",
      "Requirement already satisfied: typing-extensions>=3.6.4 in /home/jupyterlab/conda/envs/python/lib/python3.7/site-packages (from importlib-metadata->click->sacremoses) (4.5.0)\n",
      "Building wheels for collected packages: sacremoses\n",
      "  Building wheel for sacremoses (setup.py) ... \u001b[?25ldone\n",
      "\u001b[?25h  Created wheel for sacremoses: filename=sacremoses-0.0.53-py3-none-any.whl size=895241 sha256=f49ee167eba4f5882e165af7b0a48259e47ace6eabe0d64cc1b156533fb913c2\n",
      "  Stored in directory: /home/jupyterlab/.cache/pip/wheels/87/39/dd/a83eeef36d0bf98e7a4d1933a4ad2d660295a40613079bafc9\n",
      "Successfully built sacremoses\n",
      "Installing collected packages: joblib, sacremoses\n",
      "Successfully installed joblib-1.3.2 sacremoses-0.0.53\n"
     ]
    }
   ],
   "source": [
    "!pip install sacremoses"
   ]
  },
  {
   "cell_type": "code",
   "execution_count": 7,
   "id": "c024b45a-c028-4f2b-aafb-5b05878bf7f5",
   "metadata": {
    "tags": []
   },
   "outputs": [],
   "source": [
    "import warnings\n",
    "warnings.filterwarnings('ignore')"
   ]
  },
  {
   "cell_type": "code",
   "execution_count": 8,
   "id": "9fb8691f-3ec5-4afc-baf8-a2ebc965cecf",
   "metadata": {
    "tags": []
   },
   "outputs": [
    {
     "name": "stderr",
     "output_type": "stream",
     "text": [
      "/home/jupyterlab/conda/envs/python/lib/python3.7/site-packages/sklearn/utils/validation.py:37: DeprecationWarning: distutils Version classes are deprecated. Use packaging.version instead.\n",
      "  LARGE_SPARSE_SUPPORTED = LooseVersion(scipy_version) >= '0.14.0'\n"
     ]
    }
   ],
   "source": [
    "from transformers import pipeline\n",
    "from transformers import AutoTokenizer\n",
    "from transformers import AutoModel"
   ]
  },
  {
   "cell_type": "code",
   "execution_count": 9,
   "id": "13108acf-2aee-418e-b6b0-56f988e7f450",
   "metadata": {
    "tags": []
   },
   "outputs": [
    {
     "data": {
      "application/vnd.jupyter.widget-view+json": {
       "model_id": "56f0d5f722dd487788f16788fe50a879",
       "version_major": 2,
       "version_minor": 0
      },
      "text/plain": [
       "Downloading config.json:   0%|          | 0.00/629 [00:00<?, ?B/s]"
      ]
     },
     "metadata": {},
     "output_type": "display_data"
    },
    {
     "data": {
      "application/vnd.jupyter.widget-view+json": {
       "model_id": "be802861e61446e9abf4ebdea71d5b40",
       "version_major": 2,
       "version_minor": 0
      },
      "text/plain": [
       "Downloading model.safetensors:   0%|          | 0.00/268M [00:00<?, ?B/s]"
      ]
     },
     "metadata": {},
     "output_type": "display_data"
    },
    {
     "data": {
      "application/vnd.jupyter.widget-view+json": {
       "model_id": "18803832e2ef4c10bd0beb03f2dec65b",
       "version_major": 2,
       "version_minor": 0
      },
      "text/plain": [
       "Downloading tokenizer_config.json:   0%|          | 0.00/48.0 [00:00<?, ?B/s]"
      ]
     },
     "metadata": {},
     "output_type": "display_data"
    },
    {
     "data": {
      "application/vnd.jupyter.widget-view+json": {
       "model_id": "ab96a5609f2d46a2bc873d860f04c9f3",
       "version_major": 2,
       "version_minor": 0
      },
      "text/plain": [
       "Downloading vocab.txt:   0%|          | 0.00/232k [00:00<?, ?B/s]"
      ]
     },
     "metadata": {},
     "output_type": "display_data"
    },
    {
     "name": "stderr",
     "output_type": "stream",
     "text": [
      "Xformers is not installed correctly. If you want to use memory_efficient_attention to accelerate training use the following command to install Xformers\n",
      "pip install xformers.\n"
     ]
    }
   ],
   "source": [
    "classifier = pipeline(\"sentiment-analysis\", model=\"distilbert-base-uncased-finetuned-sst-2-english\")"
   ]
  },
  {
   "cell_type": "code",
   "execution_count": 10,
   "id": "c832b822-b506-465b-8a53-60dcf4463f7e",
   "metadata": {
    "tags": []
   },
   "outputs": [
    {
     "data": {
      "text/plain": [
       "[{'label': 'POSITIVE', 'score': 0.9982457160949707}]"
      ]
     },
     "execution_count": 10,
     "metadata": {},
     "output_type": "execute_result"
    }
   ],
   "source": [
    "classifier(\"Having three long haired, heavy shedding dogs at home, I was pretty skeptical that this could hold up to all the hair and dirt they trek in, but this wonderful piece of tech has been nothing short of a godsend for me! \")"
   ]
  },
  {
   "cell_type": "code",
   "execution_count": 12,
   "id": "bc2c21ac-d055-41ce-ac09-dce8f1d0d2c7",
   "metadata": {
    "tags": []
   },
   "outputs": [
    {
     "data": {
      "application/vnd.jupyter.widget-view+json": {
       "model_id": "b2f6d913be944269ba2a565f75698868",
       "version_major": 2,
       "version_minor": 0
      },
      "text/plain": [
       "Downloading config.json:   0%|          | 0.00/1.15k [00:00<?, ?B/s]"
      ]
     },
     "metadata": {},
     "output_type": "display_data"
    },
    {
     "data": {
      "application/vnd.jupyter.widget-view+json": {
       "model_id": "51f582c081254cca886123a6bc788529",
       "version_major": 2,
       "version_minor": 0
      },
      "text/plain": [
       "Downloading model.safetensors:   0%|          | 0.00/1.63G [00:00<?, ?B/s]"
      ]
     },
     "metadata": {},
     "output_type": "display_data"
    },
    {
     "data": {
      "application/vnd.jupyter.widget-view+json": {
       "model_id": "d740fa1820954fc1a91a5938d1f13b5d",
       "version_major": 2,
       "version_minor": 0
      },
      "text/plain": [
       "Downloading tokenizer_config.json:   0%|          | 0.00/26.0 [00:00<?, ?B/s]"
      ]
     },
     "metadata": {},
     "output_type": "display_data"
    },
    {
     "data": {
      "application/vnd.jupyter.widget-view+json": {
       "model_id": "05ae85ceba1c4b47b3969004dff123c6",
       "version_major": 2,
       "version_minor": 0
      },
      "text/plain": [
       "Downloading vocab.json:   0%|          | 0.00/899k [00:00<?, ?B/s]"
      ]
     },
     "metadata": {},
     "output_type": "display_data"
    },
    {
     "data": {
      "application/vnd.jupyter.widget-view+json": {
       "model_id": "6e863d48aa0b44eb9e2e8871b6cc1364",
       "version_major": 2,
       "version_minor": 0
      },
      "text/plain": [
       "Downloading merges.txt:   0%|          | 0.00/456k [00:00<?, ?B/s]"
      ]
     },
     "metadata": {},
     "output_type": "display_data"
    },
    {
     "data": {
      "application/vnd.jupyter.widget-view+json": {
       "model_id": "b6b478db908e4861969761c09d7f4f94",
       "version_major": 2,
       "version_minor": 0
      },
      "text/plain": [
       "Downloading tokenizer.json:   0%|          | 0.00/1.36M [00:00<?, ?B/s]"
      ]
     },
     "metadata": {},
     "output_type": "display_data"
    },
    {
     "data": {
      "text/plain": [
       "{'sequence': 'Exploratory Data Analysis is the first course in Machine Learning Program that introduces learners to the broad range of Machine Learning concepts, applications, challenges, and solutions, while utilizing interesting real-life datasets',\n",
       " 'labels': ['data analysis', 'art', 'natural science'],\n",
       " 'scores': [0.9957792162895203, 0.0026982580311596394, 0.0015224860981106758]}"
      ]
     },
     "execution_count": 12,
     "metadata": {},
     "output_type": "execute_result"
    }
   ],
   "source": [
    "classifier = pipeline(\"zero-shot-classification\", model=\"facebook/bart-large-mnli\")\n",
    "classifier(\n",
    "    \"Exploratory Data Analysis is the first course in Machine Learning Program that introduces learners to the broad range of Machine Learning concepts, applications, challenges, and solutions, while utilizing interesting real-life datasets\",\n",
    "    candidate_labels=[\"art\", \"natural science\", \"data analysis\"],\n",
    ")"
   ]
  },
  {
   "cell_type": "code",
   "execution_count": 13,
   "id": "b3a2a105-416e-4c81-b595-3bbf0e66114f",
   "metadata": {
    "tags": []
   },
   "outputs": [
    {
     "data": {
      "application/vnd.jupyter.widget-view+json": {
       "model_id": "247b1e9465d74a20b3215dfb1fc7aeff",
       "version_major": 2,
       "version_minor": 0
      },
      "text/plain": [
       "Downloading config.json:   0%|          | 0.00/665 [00:00<?, ?B/s]"
      ]
     },
     "metadata": {},
     "output_type": "display_data"
    },
    {
     "data": {
      "application/vnd.jupyter.widget-view+json": {
       "model_id": "8fbdda88d0e14aa6890e690fda892adc",
       "version_major": 2,
       "version_minor": 0
      },
      "text/plain": [
       "Downloading model.safetensors:   0%|          | 0.00/548M [00:00<?, ?B/s]"
      ]
     },
     "metadata": {},
     "output_type": "display_data"
    },
    {
     "data": {
      "application/vnd.jupyter.widget-view+json": {
       "model_id": "20bfdcab5038482b9c608576d911547a",
       "version_major": 2,
       "version_minor": 0
      },
      "text/plain": [
       "Downloading generation_config.json:   0%|          | 0.00/124 [00:00<?, ?B/s]"
      ]
     },
     "metadata": {},
     "output_type": "display_data"
    },
    {
     "data": {
      "application/vnd.jupyter.widget-view+json": {
       "model_id": "86a79f1724104478b59b05f6a254c73c",
       "version_major": 2,
       "version_minor": 0
      },
      "text/plain": [
       "Downloading tokenizer_config.json:   0%|          | 0.00/26.0 [00:00<?, ?B/s]"
      ]
     },
     "metadata": {},
     "output_type": "display_data"
    },
    {
     "data": {
      "application/vnd.jupyter.widget-view+json": {
       "model_id": "1d5818726a1a465a90c29a8638ecbc71",
       "version_major": 2,
       "version_minor": 0
      },
      "text/plain": [
       "Downloading vocab.json:   0%|          | 0.00/1.04M [00:00<?, ?B/s]"
      ]
     },
     "metadata": {},
     "output_type": "display_data"
    },
    {
     "data": {
      "application/vnd.jupyter.widget-view+json": {
       "model_id": "ca177ad15562417ca4fa788455c1e5c3",
       "version_major": 2,
       "version_minor": 0
      },
      "text/plain": [
       "Downloading merges.txt:   0%|          | 0.00/456k [00:00<?, ?B/s]"
      ]
     },
     "metadata": {},
     "output_type": "display_data"
    },
    {
     "data": {
      "application/vnd.jupyter.widget-view+json": {
       "model_id": "f21337036fde40a6a6c8beeed6c00315",
       "version_major": 2,
       "version_minor": 0
      },
      "text/plain": [
       "Downloading tokenizer.json:   0%|          | 0.00/1.36M [00:00<?, ?B/s]"
      ]
     },
     "metadata": {},
     "output_type": "display_data"
    },
    {
     "name": "stderr",
     "output_type": "stream",
     "text": [
      "Setting `pad_token_id` to `eos_token_id`:50256 for open-end generation.\n"
     ]
    },
    {
     "data": {
      "text/plain": [
       "[{'generated_text': \"This course will teach you how programming languages work, and how to write secure, elegant and flexible systems. This course is built on all of the above. You'll learn programming language design, including how to create your own programs, create a scalable database\"}]"
      ]
     },
     "execution_count": 13,
     "metadata": {},
     "output_type": "execute_result"
    }
   ],
   "source": [
    "generator = pipeline(\"text-generation\", model=\"gpt2\")\n",
    "generator(\"This course will teach you\")"
   ]
  },
  {
   "cell_type": "code",
   "execution_count": 14,
   "id": "a8709b4f-2232-4be3-9f65-4bb4b0170174",
   "metadata": {
    "tags": []
   },
   "outputs": [
    {
     "data": {
      "application/vnd.jupyter.widget-view+json": {
       "model_id": "209b3d37e7bf4595b81f5b36d9f53f2c",
       "version_major": 2,
       "version_minor": 0
      },
      "text/plain": [
       "Downloading config.json:   0%|          | 0.00/762 [00:00<?, ?B/s]"
      ]
     },
     "metadata": {},
     "output_type": "display_data"
    },
    {
     "data": {
      "application/vnd.jupyter.widget-view+json": {
       "model_id": "a0fe454f75b947a4ba9e0a99c9635414",
       "version_major": 2,
       "version_minor": 0
      },
      "text/plain": [
       "Downloading model.safetensors:   0%|          | 0.00/353M [00:00<?, ?B/s]"
      ]
     },
     "metadata": {},
     "output_type": "display_data"
    },
    {
     "data": {
      "application/vnd.jupyter.widget-view+json": {
       "model_id": "ffe6c47c741f44c8a7df410c66830381",
       "version_major": 2,
       "version_minor": 0
      },
      "text/plain": [
       "Downloading generation_config.json:   0%|          | 0.00/124 [00:00<?, ?B/s]"
      ]
     },
     "metadata": {},
     "output_type": "display_data"
    },
    {
     "data": {
      "application/vnd.jupyter.widget-view+json": {
       "model_id": "29df7ca671cd4577a84a8e986aaae46d",
       "version_major": 2,
       "version_minor": 0
      },
      "text/plain": [
       "Downloading tokenizer_config.json:   0%|          | 0.00/26.0 [00:00<?, ?B/s]"
      ]
     },
     "metadata": {},
     "output_type": "display_data"
    },
    {
     "data": {
      "application/vnd.jupyter.widget-view+json": {
       "model_id": "14be477e7c3141f695b0237d99289f9c",
       "version_major": 2,
       "version_minor": 0
      },
      "text/plain": [
       "Downloading vocab.json:   0%|          | 0.00/1.04M [00:00<?, ?B/s]"
      ]
     },
     "metadata": {},
     "output_type": "display_data"
    },
    {
     "data": {
      "application/vnd.jupyter.widget-view+json": {
       "model_id": "9e6493112ad442b6941613d64e220352",
       "version_major": 2,
       "version_minor": 0
      },
      "text/plain": [
       "Downloading merges.txt:   0%|          | 0.00/456k [00:00<?, ?B/s]"
      ]
     },
     "metadata": {},
     "output_type": "display_data"
    },
    {
     "data": {
      "application/vnd.jupyter.widget-view+json": {
       "model_id": "7138781838984ef4aadeec1b4796df61",
       "version_major": 2,
       "version_minor": 0
      },
      "text/plain": [
       "Downloading tokenizer.json:   0%|          | 0.00/1.36M [00:00<?, ?B/s]"
      ]
     },
     "metadata": {},
     "output_type": "display_data"
    },
    {
     "name": "stderr",
     "output_type": "stream",
     "text": [
      "Setting `pad_token_id` to `eos_token_id`:50256 for open-end generation.\n"
     ]
    },
    {
     "data": {
      "text/plain": [
       "[{'generated_text': 'This course will teach you how to build your next web application through the new SDKs which you can download when your Google TV starts up.'},\n",
       " {'generated_text': 'This course will teach you how to work in a very difficult environment. Here I will teach you the various approaches you can use to understand and improve your'}]"
      ]
     },
     "execution_count": 14,
     "metadata": {},
     "output_type": "execute_result"
    }
   ],
   "source": [
    "generator = pipeline(\"text-generation\", model=\"distilgpt2\")\n",
    "generator(\n",
    "    \"This course will teach you\",\n",
    "    max_length=30,\n",
    "    num_return_sequences=2,\n",
    ")"
   ]
  },
  {
   "cell_type": "code",
   "execution_count": 15,
   "id": "0e96ffc6-740d-4e13-8624-dc971bade598",
   "metadata": {
    "tags": []
   },
   "outputs": [
    {
     "data": {
      "application/vnd.jupyter.widget-view+json": {
       "model_id": "8da48e4ff2de4893bf1ddf61c3048e56",
       "version_major": 2,
       "version_minor": 0
      },
      "text/plain": [
       "Downloading config.json:   0%|          | 0.00/480 [00:00<?, ?B/s]"
      ]
     },
     "metadata": {},
     "output_type": "display_data"
    },
    {
     "data": {
      "application/vnd.jupyter.widget-view+json": {
       "model_id": "c021f2e8b6424f4fae7883e44ba80c77",
       "version_major": 2,
       "version_minor": 0
      },
      "text/plain": [
       "Downloading model.safetensors:   0%|          | 0.00/331M [00:00<?, ?B/s]"
      ]
     },
     "metadata": {},
     "output_type": "display_data"
    },
    {
     "data": {
      "application/vnd.jupyter.widget-view+json": {
       "model_id": "a4ed78a883394534821ffe6fabd89f2b",
       "version_major": 2,
       "version_minor": 0
      },
      "text/plain": [
       "Downloading tokenizer_config.json:   0%|          | 0.00/25.0 [00:00<?, ?B/s]"
      ]
     },
     "metadata": {},
     "output_type": "display_data"
    },
    {
     "data": {
      "application/vnd.jupyter.widget-view+json": {
       "model_id": "9a5e7c9d53df462787512f19aaf9c3b9",
       "version_major": 2,
       "version_minor": 0
      },
      "text/plain": [
       "Downloading vocab.json:   0%|          | 0.00/899k [00:00<?, ?B/s]"
      ]
     },
     "metadata": {},
     "output_type": "display_data"
    },
    {
     "data": {
      "application/vnd.jupyter.widget-view+json": {
       "model_id": "c4795927b8c24e8eb99bee11bf6f514a",
       "version_major": 2,
       "version_minor": 0
      },
      "text/plain": [
       "Downloading merges.txt:   0%|          | 0.00/456k [00:00<?, ?B/s]"
      ]
     },
     "metadata": {},
     "output_type": "display_data"
    },
    {
     "data": {
      "application/vnd.jupyter.widget-view+json": {
       "model_id": "10022e52939b4056b75a6ba06ffdd3fd",
       "version_major": 2,
       "version_minor": 0
      },
      "text/plain": [
       "Downloading tokenizer.json:   0%|          | 0.00/1.36M [00:00<?, ?B/s]"
      ]
     },
     "metadata": {},
     "output_type": "display_data"
    },
    {
     "data": {
      "text/plain": [
       "[{'score': 0.196197971701622,\n",
       "  'token': 30412,\n",
       "  'token_str': ' mathematical',\n",
       "  'sequence': 'This course will teach you all about mathematical models.'},\n",
       " {'score': 0.04052729904651642,\n",
       "  'token': 38163,\n",
       "  'token_str': ' computational',\n",
       "  'sequence': 'This course will teach you all about computational models.'},\n",
       " {'score': 0.03301800787448883,\n",
       "  'token': 27930,\n",
       "  'token_str': ' predictive',\n",
       "  'sequence': 'This course will teach you all about predictive models.'},\n",
       " {'score': 0.03194150701165199,\n",
       "  'token': 745,\n",
       "  'token_str': ' building',\n",
       "  'sequence': 'This course will teach you all about building models.'}]"
      ]
     },
     "execution_count": 15,
     "metadata": {},
     "output_type": "execute_result"
    }
   ],
   "source": [
    "unmasker = pipeline(\"fill-mask\", \"distilroberta-base\")\n",
    "unmasker(\"This course will teach you all about <mask> models.\", top_k=4)"
   ]
  },
  {
   "cell_type": "code",
   "execution_count": 16,
   "id": "86eaa72a-fbef-4ea6-9702-b270c2f7b0a7",
   "metadata": {
    "tags": []
   },
   "outputs": [
    {
     "data": {
      "application/vnd.jupyter.widget-view+json": {
       "model_id": "d9365d98232d4fa7aff2eece4b6b7d2c",
       "version_major": 2,
       "version_minor": 0
      },
      "text/plain": [
       "Downloading config.json:   0%|          | 0.00/998 [00:00<?, ?B/s]"
      ]
     },
     "metadata": {},
     "output_type": "display_data"
    },
    {
     "data": {
      "application/vnd.jupyter.widget-view+json": {
       "model_id": "7be5d9934484450c91916d2658325ee8",
       "version_major": 2,
       "version_minor": 0
      },
      "text/plain": [
       "Downloading model.safetensors:   0%|          | 0.00/1.33G [00:00<?, ?B/s]"
      ]
     },
     "metadata": {},
     "output_type": "display_data"
    },
    {
     "data": {
      "application/vnd.jupyter.widget-view+json": {
       "model_id": "41ca79ff596c4606bf0c41cf7dd0796f",
       "version_major": 2,
       "version_minor": 0
      },
      "text/plain": [
       "Downloading tokenizer_config.json:   0%|          | 0.00/60.0 [00:00<?, ?B/s]"
      ]
     },
     "metadata": {},
     "output_type": "display_data"
    },
    {
     "data": {
      "application/vnd.jupyter.widget-view+json": {
       "model_id": "b435c184b42d435298afa96687239b62",
       "version_major": 2,
       "version_minor": 0
      },
      "text/plain": [
       "Downloading vocab.txt:   0%|          | 0.00/213k [00:00<?, ?B/s]"
      ]
     },
     "metadata": {},
     "output_type": "display_data"
    },
    {
     "data": {
      "text/plain": [
       "[{'entity_group': 'PER',\n",
       "  'score': 0.9993105,\n",
       "  'word': 'Roberta',\n",
       "  'start': 11,\n",
       "  'end': 18},\n",
       " {'entity_group': 'ORG',\n",
       "  'score': 0.9976597,\n",
       "  'word': 'IBM Skills Network',\n",
       "  'start': 35,\n",
       "  'end': 53},\n",
       " {'entity_group': 'LOC',\n",
       "  'score': 0.99702173,\n",
       "  'word': 'Toronto',\n",
       "  'start': 57,\n",
       "  'end': 64}]"
      ]
     },
     "execution_count": 16,
     "metadata": {},
     "output_type": "execute_result"
    }
   ],
   "source": [
    "ner = pipeline(\"ner\", model=\"dbmdz/bert-large-cased-finetuned-conll03-english\", grouped_entities=True)\n",
    "ner(\"My name is Roberta and I work with IBM Skills Network in Toronto\")"
   ]
  },
  {
   "cell_type": "code",
   "execution_count": 17,
   "id": "051535e2-0841-4632-ba1a-1f143786bb00",
   "metadata": {
    "tags": []
   },
   "outputs": [],
   "source": [
    "del ner"
   ]
  },
  {
   "cell_type": "code",
   "execution_count": 18,
   "id": "9f4b4d88-fd0a-479b-9dda-684bd536d1a9",
   "metadata": {
    "tags": []
   },
   "outputs": [
    {
     "data": {
      "application/vnd.jupyter.widget-view+json": {
       "model_id": "38b959dbe14f4fcb8ba4e49ec685dcb8",
       "version_major": 2,
       "version_minor": 0
      },
      "text/plain": [
       "Downloading config.json:   0%|          | 0.00/473 [00:00<?, ?B/s]"
      ]
     },
     "metadata": {},
     "output_type": "display_data"
    },
    {
     "data": {
      "application/vnd.jupyter.widget-view+json": {
       "model_id": "7135d3b2b1a0431aa72ce3f92c7b8d2a",
       "version_major": 2,
       "version_minor": 0
      },
      "text/plain": [
       "Downloading model.safetensors:   0%|          | 0.00/261M [00:00<?, ?B/s]"
      ]
     },
     "metadata": {},
     "output_type": "display_data"
    },
    {
     "data": {
      "application/vnd.jupyter.widget-view+json": {
       "model_id": "1e05a59f7e3e41078fc0680c1f3d654c",
       "version_major": 2,
       "version_minor": 0
      },
      "text/plain": [
       "Downloading tokenizer_config.json:   0%|          | 0.00/29.0 [00:00<?, ?B/s]"
      ]
     },
     "metadata": {},
     "output_type": "display_data"
    },
    {
     "data": {
      "application/vnd.jupyter.widget-view+json": {
       "model_id": "db4dafdfa0bb43ec9c38840065a18218",
       "version_major": 2,
       "version_minor": 0
      },
      "text/plain": [
       "Downloading vocab.txt:   0%|          | 0.00/213k [00:00<?, ?B/s]"
      ]
     },
     "metadata": {},
     "output_type": "display_data"
    },
    {
     "data": {
      "application/vnd.jupyter.widget-view+json": {
       "model_id": "7cccc007405f4a348ae2d0dcff1bcbfd",
       "version_major": 2,
       "version_minor": 0
      },
      "text/plain": [
       "Downloading tokenizer.json:   0%|          | 0.00/436k [00:00<?, ?B/s]"
      ]
     },
     "metadata": {},
     "output_type": "display_data"
    },
    {
     "data": {
      "text/plain": [
       "{'score': 0.8247062563896179, 'start': 48, 'end': 56, 'answer': 'Amazonia'}"
      ]
     },
     "execution_count": 18,
     "metadata": {},
     "output_type": "execute_result"
    }
   ],
   "source": [
    "qa_model = pipeline(\"question-answering\", model=\"distilbert-base-cased-distilled-squad\")\n",
    "question = \"Which name is also used to describe the Amazon rainforest in English?\"\n",
    "context = \"The Amazon rainforest, also known in English as Amazonia or the Amazon Jungle.\"\n",
    "qa_model(question = question, context = context)"
   ]
  },
  {
   "cell_type": "code",
   "execution_count": 19,
   "id": "3794d4cc-ebfa-434d-8017-f5e55cb8ad5e",
   "metadata": {
    "tags": []
   },
   "outputs": [
    {
     "data": {
      "application/vnd.jupyter.widget-view+json": {
       "model_id": "8932b258b94e49958596382dc881f78c",
       "version_major": 2,
       "version_minor": 0
      },
      "text/plain": [
       "Downloading config.json:   0%|          | 0.00/1.80k [00:00<?, ?B/s]"
      ]
     },
     "metadata": {},
     "output_type": "display_data"
    },
    {
     "data": {
      "application/vnd.jupyter.widget-view+json": {
       "model_id": "aab54bf6220f42e4902fcc9c11873f7c",
       "version_major": 2,
       "version_minor": 0
      },
      "text/plain": [
       "Downloading pytorch_model.bin:   0%|          | 0.00/1.22G [00:00<?, ?B/s]"
      ]
     },
     "metadata": {},
     "output_type": "display_data"
    },
    {
     "data": {
      "application/vnd.jupyter.widget-view+json": {
       "model_id": "2f9ee0715164419ea6b2a476e9a9e2ca",
       "version_major": 2,
       "version_minor": 0
      },
      "text/plain": [
       "Downloading tokenizer_config.json:   0%|          | 0.00/26.0 [00:00<?, ?B/s]"
      ]
     },
     "metadata": {},
     "output_type": "display_data"
    },
    {
     "data": {
      "application/vnd.jupyter.widget-view+json": {
       "model_id": "2ef228c596cc46d7a89bd605f7d6433b",
       "version_major": 2,
       "version_minor": 0
      },
      "text/plain": [
       "Downloading vocab.json:   0%|          | 0.00/899k [00:00<?, ?B/s]"
      ]
     },
     "metadata": {},
     "output_type": "display_data"
    },
    {
     "data": {
      "application/vnd.jupyter.widget-view+json": {
       "model_id": "0279acf7e2e7453fb759c9b4740f276e",
       "version_major": 2,
       "version_minor": 0
      },
      "text/plain": [
       "Downloading merges.txt:   0%|          | 0.00/456k [00:00<?, ?B/s]"
      ]
     },
     "metadata": {},
     "output_type": "display_data"
    },
    {
     "data": {
      "text/plain": [
       "[{'summary_text': ' Exploratory Data Analysis is the first course in Machine Learning Program that introduces learners to the broad range of Machine Learning concepts, applications, challenges, and solutions . EDA is a visual and statistical process that allows us to take a glimpse into the data before the analysis . It lays foundation for the analysis so our results go along with our expectations .'}]"
      ]
     },
     "execution_count": 19,
     "metadata": {},
     "output_type": "execute_result"
    }
   ],
   "source": [
    "summarizer = pipeline(\"summarization\", model=\"sshleifer/distilbart-cnn-12-6\")\n",
    "summarizer(\n",
    "    \"\"\"\n",
    "Exploratory Data Analysis is the first course in Machine Learning Program that introduces learners to the broad range of Machine Learning concepts, applications, challenges, and solutions, while utilizing interesting real-life datasets. So, what is EDA and why is it important to perform it before we dive into any analysis?\n",
    "EDA is a visual and statistical process that allows us to take a glimpse into the data before the analysis. It lets us test the assumptions that we might have about the data, proving or disproving our prior believes and biases. It lays foundation for the analysis, so our results go along with our expectations. In a way, it’s a quality check for our predictions.\n",
    "As any data scientist would agree, the most challenging part in any data analysis is to obtain a good quality data to work with. Nothing is served to us on a silver plate, data comes in different shapes and formats. It can be structured and unstructured, it may contain errors or be biased, it may have missing fields, it can have different formats than what an untrained eye would perceive. For example, when we import some data, very often it would contain a time stamp. To a human it is understandable format that can interpreted. But to a machine, it is not interpretable, so it needs to be told what that means, the data needs to be transformed into simple numbers first. There are also different date-time conventions depending on a country (i.e., Canadian versus USA), metric versus imperial systems, and many other data features that need to be recognized before we start doing the analysis. Therefore, the first step before performing any analysis – is get really aquatinted with your data!\n",
    "This course will teach you to ‘see’ and to ‘feel’ the data as well as to transform it into analysis-ready format. It is introductory level course, so no prior knowledge is required, and it is a good starting point if you are interested in getting into the world of Machine Learning. The only thing that is needed is some computer with internet, your curiosity and eagerness to learn and to apply acquired knowledge.  If you live in Canada, you might be interested about gasoline prices in different cities or if you are an insurance actuary you need to analyze the financial risks that you will take based on your clients information. Whatever is the case, you will be able to do your own analysis, and confirm or disprove some of the existing information.\n",
    "The course contains videos and reading materials, as well as well as a lot of interactive practice labs that learners can explore and apply the skills learned. It will allow you to use Python language in Jupyter Notebook, a cloud-based skills network environment that is pre-set for you with all available to be downloaded packages and libraries. It will introduce you to the most common visualization libraries such as Pandas, Seaborn, and Matplotlib to demonstrate various EDA techniques with some real-life datasets.\n",
    "\n",
    "\"\"\"\n",
    ")"
   ]
  },
  {
   "cell_type": "code",
   "execution_count": 20,
   "id": "eb25b90d-8e0b-4470-86ed-de773907c0af",
   "metadata": {
    "tags": []
   },
   "outputs": [
    {
     "data": {
      "application/vnd.jupyter.widget-view+json": {
       "model_id": "7277fa6ff95d48278f151c77af69dfa1",
       "version_major": 2,
       "version_minor": 0
      },
      "text/plain": [
       "Downloading config.json:   0%|          | 0.00/1.21k [00:00<?, ?B/s]"
      ]
     },
     "metadata": {},
     "output_type": "display_data"
    },
    {
     "data": {
      "application/vnd.jupyter.widget-view+json": {
       "model_id": "c5b7f5f5a0834c9fb540cfa2eb62b9bd",
       "version_major": 2,
       "version_minor": 0
      },
      "text/plain": [
       "Downloading model.safetensors:   0%|          | 0.00/242M [00:00<?, ?B/s]"
      ]
     },
     "metadata": {},
     "output_type": "display_data"
    },
    {
     "data": {
      "application/vnd.jupyter.widget-view+json": {
       "model_id": "9340be84827b4f36bc6e5e5871759364",
       "version_major": 2,
       "version_minor": 0
      },
      "text/plain": [
       "Downloading generation_config.json:   0%|          | 0.00/147 [00:00<?, ?B/s]"
      ]
     },
     "metadata": {},
     "output_type": "display_data"
    },
    {
     "data": {
      "application/vnd.jupyter.widget-view+json": {
       "model_id": "fbb233502363439b925bd634efbfbe7a",
       "version_major": 2,
       "version_minor": 0
      },
      "text/plain": [
       "Downloading tokenizer_config.json:   0%|          | 0.00/2.32k [00:00<?, ?B/s]"
      ]
     },
     "metadata": {},
     "output_type": "display_data"
    },
    {
     "data": {
      "application/vnd.jupyter.widget-view+json": {
       "model_id": "ccca2e8f17a34c43bb9bcd57f434ee7d",
       "version_major": 2,
       "version_minor": 0
      },
      "text/plain": [
       "Downloading spiece.model:   0%|          | 0.00/792k [00:00<?, ?B/s]"
      ]
     },
     "metadata": {},
     "output_type": "display_data"
    },
    {
     "data": {
      "application/vnd.jupyter.widget-view+json": {
       "model_id": "a2c95be994924a2390f97a113d4acefd",
       "version_major": 2,
       "version_minor": 0
      },
      "text/plain": [
       "Downloading tokenizer.json:   0%|          | 0.00/1.39M [00:00<?, ?B/s]"
      ]
     },
     "metadata": {},
     "output_type": "display_data"
    },
    {
     "data": {
      "text/plain": [
       "[{'translation_text': 'Quel est votre âge ?'}]"
      ]
     },
     "execution_count": 20,
     "metadata": {},
     "output_type": "execute_result"
    }
   ],
   "source": [
    "en_fr_translator = pipeline(\"translation_en_to_fr\", model=\"t5-small\")\n",
    "en_fr_translator(\"How old are you?\")"
   ]
  },
  {
   "cell_type": "code",
   "execution_count": 21,
   "id": "c1db85b1-b7ca-44b8-80e0-89747dd9ddc3",
   "metadata": {
    "tags": []
   },
   "outputs": [
    {
     "data": {
      "text/plain": [
       "[{'translation_text': ' quelle hauteur êtes-vous?'}]"
      ]
     },
     "execution_count": 21,
     "metadata": {},
     "output_type": "execute_result"
    }
   ],
   "source": [
    "en_fr_translator = pipeline(\"translation_en_to_fr\", model=\"t5-small\")\n",
    "en_fr_translator(\"How tall are you?\")"
   ]
  },
  {
   "cell_type": "code",
   "execution_count": 22,
   "id": "0cceb29a-36c7-46e6-8fe8-71e41e12b46e",
   "metadata": {
    "tags": []
   },
   "outputs": [
    {
     "data": {
      "application/vnd.jupyter.widget-view+json": {
       "model_id": "218991385a994799ab25997cee407688",
       "version_major": 2,
       "version_minor": 0
      },
      "text/plain": [
       "Downloading config.json:   0%|          | 0.00/1.42k [00:00<?, ?B/s]"
      ]
     },
     "metadata": {},
     "output_type": "display_data"
    },
    {
     "data": {
      "application/vnd.jupyter.widget-view+json": {
       "model_id": "0086b38719c24846947446f9c4290850",
       "version_major": 2,
       "version_minor": 0
      },
      "text/plain": [
       "Downloading pytorch_model.bin:   0%|          | 0.00/301M [00:00<?, ?B/s]"
      ]
     },
     "metadata": {},
     "output_type": "display_data"
    },
    {
     "data": {
      "application/vnd.jupyter.widget-view+json": {
       "model_id": "1dcc353b87bc461c9f268f0cfbeb23de",
       "version_major": 2,
       "version_minor": 0
      },
      "text/plain": [
       "Downloading generation_config.json:   0%|          | 0.00/293 [00:00<?, ?B/s]"
      ]
     },
     "metadata": {},
     "output_type": "display_data"
    },
    {
     "data": {
      "application/vnd.jupyter.widget-view+json": {
       "model_id": "21dae84cd89449ca9d52cfaa702eaadb",
       "version_major": 2,
       "version_minor": 0
      },
      "text/plain": [
       "Downloading tokenizer_config.json:   0%|          | 0.00/42.0 [00:00<?, ?B/s]"
      ]
     },
     "metadata": {},
     "output_type": "display_data"
    },
    {
     "data": {
      "application/vnd.jupyter.widget-view+json": {
       "model_id": "67ed890bcbb34ea79b34d8c45419fcf1",
       "version_major": 2,
       "version_minor": 0
      },
      "text/plain": [
       "Downloading source.spm:   0%|          | 0.00/802k [00:00<?, ?B/s]"
      ]
     },
     "metadata": {},
     "output_type": "display_data"
    },
    {
     "data": {
      "application/vnd.jupyter.widget-view+json": {
       "model_id": "0f7c6146df6f445c894b2e3b10eafbfc",
       "version_major": 2,
       "version_minor": 0
      },
      "text/plain": [
       "Downloading target.spm:   0%|          | 0.00/778k [00:00<?, ?B/s]"
      ]
     },
     "metadata": {},
     "output_type": "display_data"
    },
    {
     "data": {
      "application/vnd.jupyter.widget-view+json": {
       "model_id": "9edacaf1909d40488e547ae3f0220c1a",
       "version_major": 2,
       "version_minor": 0
      },
      "text/plain": [
       "Downloading vocab.json:   0%|          | 0.00/1.34M [00:00<?, ?B/s]"
      ]
     },
     "metadata": {},
     "output_type": "display_data"
    },
    {
     "data": {
      "text/plain": [
       "[{'translation_text': 'Data science is the best.'}]"
      ]
     },
     "execution_count": 22,
     "metadata": {},
     "output_type": "execute_result"
    }
   ],
   "source": [
    "translator = pipeline(\"translation\", model=\"Helsinki-NLP/opus-mt-fr-en\")\n",
    "translator(\"La science des données est la meilleure.\")"
   ]
  },
  {
   "cell_type": "code",
   "execution_count": 23,
   "id": "a48469c2-456e-44d1-b5bf-be6228dbe1ba",
   "metadata": {
    "tags": []
   },
   "outputs": [
    {
     "data": {
      "application/vnd.jupyter.widget-view+json": {
       "model_id": "f972ac3825414d32918c11868ee9c1d1",
       "version_major": 2,
       "version_minor": 0
      },
      "text/plain": [
       "Downloading config.json:   0%|          | 0.00/747 [00:00<?, ?B/s]"
      ]
     },
     "metadata": {},
     "output_type": "display_data"
    },
    {
     "data": {
      "application/vnd.jupyter.widget-view+json": {
       "model_id": "b724555eeb6b402092d902ff35319107",
       "version_major": 2,
       "version_minor": 0
      },
      "text/plain": [
       "Downloading pytorch_model.bin:   0%|          | 0.00/499M [00:00<?, ?B/s]"
      ]
     },
     "metadata": {},
     "output_type": "display_data"
    },
    {
     "data": {
      "application/vnd.jupyter.widget-view+json": {
       "model_id": "6305901646c048d7ade8fd6f3beec73c",
       "version_major": 2,
       "version_minor": 0
      },
      "text/plain": [
       "Downloading vocab.json:   0%|          | 0.00/899k [00:00<?, ?B/s]"
      ]
     },
     "metadata": {},
     "output_type": "display_data"
    },
    {
     "data": {
      "application/vnd.jupyter.widget-view+json": {
       "model_id": "352c4ea921f6443a995a7f0b636ad92b",
       "version_major": 2,
       "version_minor": 0
      },
      "text/plain": [
       "Downloading merges.txt:   0%|          | 0.00/456k [00:00<?, ?B/s]"
      ]
     },
     "metadata": {},
     "output_type": "display_data"
    },
    {
     "data": {
      "application/vnd.jupyter.widget-view+json": {
       "model_id": "aebba53ef3e042558e95a8428ab0655f",
       "version_major": 2,
       "version_minor": 0
      },
      "text/plain": [
       "Downloading (…)cial_tokens_map.json:   0%|          | 0.00/150 [00:00<?, ?B/s]"
      ]
     },
     "metadata": {},
     "output_type": "display_data"
    },
    {
     "data": {
      "text/plain": [
       "[{'label': 'LABEL_1', 'score': 0.5272255539894104}]"
      ]
     },
     "execution_count": 23,
     "metadata": {},
     "output_type": "execute_result"
    }
   ],
   "source": [
    "specific_model = pipeline(model=\"cardiffnlp/twitter-roberta-base-sentiment\")\n",
    "data = \"Artificial intelligence and automation are already causing friction in the workforce. Should schools revamp existing programs for topics like #AI, or are new research areas required?\"\n",
    "specific_model(data)"
   ]
  },
  {
   "cell_type": "code",
   "execution_count": 24,
   "id": "eb4a46db-c06a-41ef-b95a-4effa534d1c0",
   "metadata": {
    "tags": []
   },
   "outputs": [
    {
     "name": "stderr",
     "output_type": "stream",
     "text": [
      "No model was supplied, defaulted to distilbert-base-uncased-finetuned-sst-2-english and revision af0f99b (https://huggingface.co/distilbert-base-uncased-finetuned-sst-2-english).\n",
      "Using a pipeline without specifying a model name and revision in production is not recommended.\n"
     ]
    },
    {
     "data": {
      "text/plain": [
       "[{'label': 'NEGATIVE', 'score': 0.9989722967147827}]"
      ]
     },
     "execution_count": 24,
     "metadata": {},
     "output_type": "execute_result"
    }
   ],
   "source": [
    "original_model = pipeline(\"sentiment-analysis\")\n",
    "data = \"Artificial intelligence and automation are already causing friction in the workforce. Should schools revamp existing programs for topics like #AI, or are new research areas required?\"\n",
    "original_model(data)"
   ]
  }
 ],
 "metadata": {
  "kernelspec": {
   "display_name": "Python",
   "language": "python",
   "name": "conda-env-python-py"
  },
  "language_info": {
   "codemirror_mode": {
    "name": "ipython",
    "version": 3
   },
   "file_extension": ".py",
   "mimetype": "text/x-python",
   "name": "python",
   "nbconvert_exporter": "python",
   "pygments_lexer": "ipython3",
   "version": "3.7.12"
  }
 },
 "nbformat": 4,
 "nbformat_minor": 5
}
